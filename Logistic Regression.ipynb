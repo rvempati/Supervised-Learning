{
 "cells": [
  {
   "cell_type": "markdown",
   "metadata": {},
   "source": [
    "# Logistic Regression\n",
    "\n",
    "By Rama Vempati\n",
    "\n",
    "To connect with or follow me on LinkedIn [Click Here](https://www.linkedin.com/in/ramavempati/)"
   ]
  },
  {
   "cell_type": "markdown",
   "metadata": {},
   "source": [
    "### Introduction\n",
    "\n",
    "* Logistic Regression is one of the basic and popular algorithm to solve a classification problem. \n",
    "\n",
    "\n",
    "* It is named as ‘Logistic Regression’, because it’s underlying technique is quite the same as Linear Regression. \n",
    "\n",
    "\n",
    "* The term “Logistic” is taken from the Logit function that is used in this method of classification.\n",
    "\n",
    "\n",
    "* Logistic Regression is used when the dependent variable(target) is categorical (you need to encode the categorical variable into a numeric value)\n",
    "\n",
    "\n",
    "* For multi class problems you can use Multinomial Logistic Regression\n"
   ]
  },
  {
   "cell_type": "markdown",
   "metadata": {},
   "source": [
    "### Where is it used?\n",
    "\n",
    "Logistic Regression can be used for various classification problems such as \n",
    "1. Spam detection\n",
    "2. Diabetes prediction\n",
    "3. If a given customer will purchase a particular product\n",
    "4. If a customer will churn to another competitor"
   ]
  },
  {
   "cell_type": "markdown",
   "metadata": {},
   "source": [
    "### Why not use Linear Regression?\n",
    "\n",
    "Consider an example of where we have data of tumor size vs its malignancy. As it is a classification problem that either a patient is maligant or not. If we plot, we can see, all the values will lie on 0 and 1. And if we fit best found regression line, by assuming the threshold at 0.5, the graph might look like below\n",
    "\n",
    "<img src='images/logit1.png' alt='logit1' style=\"width: 500px;\"/>\n",
    "\n",
    "We can decide the point on the x axis from where all the values lie to its left side are considered as negative class and all the values lie to its right side are positive class.\n",
    "\n",
    "<img src='images/logit2.jpeg' alt='logit2' style=\"width: 500px;\"/>\n",
    "\n",
    "But what if there is an outlier in the data. Things would get pretty messy. For example, for 0.5 threshold.\n",
    "\n",
    "<img src='images/logit3.png' alt='logit3' style=\"width: 500px;\"/>\n",
    "\n",
    "If we fit best found regression line, it still won’t be enough to decide any point by which we can differentiate classes. It will put some positive class examples into negative class. The green dotted line (Decision Boundary) is dividing malignant tumors from benign tumors but the line should have been at a yellow line which is clearly dividing the positive and negative examples. So just a single outlier is disturbing the whole linear regression predictions. And that is where logistic regression comes into a picture."
   ]
  },
  {
   "cell_type": "markdown",
   "metadata": {},
   "source": [
    "### Logistic Regression\n",
    "\n",
    "As discussed earlier, to deal with outliers, Logistic Regression uses Sigmoid function.\n",
    "An explanation of logistic regression can begin with an explanation of the standard logistic function. The logistic function is a Sigmoid function, which takes any real value between zero and one.\n",
    "\n",
    "Step functions enforce some threshold on a variable e.g.: discard anything below a certain value. \n",
    "\n",
    "$$u(x) \\begin{cases} 0 & \\mbox{if} & x < 0 \\  \\\\ 1 & \\mbox{if} & x \\geq 0 \\ \\end{cases}$$\n",
    "\n",
    "Step functions are like switches. We could utilise them to trigger a signal whenever a threshold is crossed. Imagine opening the floodgates whenever the water level crosses a certain point or turning of the electric lighting when the ambient light brightness exceeds a given measure.\n",
    "\n",
    "Perceptrons, binary classifiers and the neurons in artificial neural networks require an activation function in order to produce any output. The step function is a valid option for the activation function but poses a challenge in analysis because of the jump disconuity at $x=0$.\n",
    "\n",
    "At $x=0$ the derivative is undefined ($\\frac{\\infty}{0}$) while the derivative is zero for the remainder of the domain.\n",
    "\n",
    "$$\\sigma(x) = \\frac{1}{1+e^{-x}}$$\n",
    "\n",
    "The sigmoid function $\\sigma(x)$, because of its differentiability, is sometimes used as an alternative to the step function $u(x)$.\n",
    "\n",
    "Some may choose to introduce a weight $\\beta$ to the input variables in order to obtain a sigmoid curve more reminiscent of the step we're trying to mimic. By tweaking the $\\beta$ term, one can obtain a result that approaches the step function, yet remains differentiable throughout its entire domain.\n",
    "\n",
    "$$\\sigma(x) = \\frac{1}{1+e^{-x\\beta}}$$\n",
    "\n",
    "\n",
    "<img src='images/logit4.png' alt='logit4' style=\"width: 500px;\"/>"
   ]
  },
  {
   "cell_type": "markdown",
   "metadata": {},
   "source": [
    "### Properties of Logistic Regression:\n",
    "\n",
    "* The dependent variable in logistic regression follows Bernoulli Distribution.\n",
    "\n",
    "\n",
    "* Estimation is done through maximum likelihood."
   ]
  },
  {
   "cell_type": "markdown",
   "metadata": {},
   "source": [
    "### Maximum Likelihood Estimation (MLE)\n",
    "\n",
    "The MLE is a \"likelihood\" maximization method, while OLS (used in Linear Regression) is a distance-minimizing approximation method. Maximizing the likelihood function determines the parameters that are most likely to produce the observed data. From a statistical point of view, MLE sets the mean and variance as parameters in determining the specific parametric values for a given model. This set of parameters can be used for predicting the data needed in a normal distribution."
   ]
  },
  {
   "cell_type": "markdown",
   "metadata": {},
   "source": [
    "### Types of Logistic Regression\n",
    "\n",
    "Types of Logistic Regression:\n",
    "\n",
    "**Binary Logistic Regression:** The target variable has only two possible outcomes such as Spam or Not Spam, Cancer or No Cancer.\n",
    "\n",
    "**Multinomial Logistic Regression:** The target variable has three or more nominal categories such as predicting the type of Wine.\n",
    "\n",
    "**Ordinal Logistic Regression:** the target variable has three or more ordinal categories such as product rating from 1 to 5."
   ]
  },
  {
   "cell_type": "markdown",
   "metadata": {},
   "source": [
    "### Logistic Regression on Breast Cancer Data"
   ]
  },
  {
   "cell_type": "code",
   "execution_count": 1,
   "metadata": {},
   "outputs": [],
   "source": [
    "from sklearn.datasets import load_breast_cancer\n",
    "cancer = load_breast_cancer()"
   ]
  },
  {
   "cell_type": "code",
   "execution_count": 2,
   "metadata": {},
   "outputs": [
    {
     "data": {
      "text/plain": [
       "dict_keys(['data', 'target', 'target_names', 'DESCR', 'feature_names', 'filename'])"
      ]
     },
     "execution_count": 2,
     "metadata": {},
     "output_type": "execute_result"
    }
   ],
   "source": [
    "cancer.keys()"
   ]
  },
  {
   "cell_type": "code",
   "execution_count": 3,
   "metadata": {},
   "outputs": [
    {
     "data": {
      "text/plain": [
       "(569, 30)"
      ]
     },
     "execution_count": 3,
     "metadata": {},
     "output_type": "execute_result"
    }
   ],
   "source": [
    "cancer['data'].shape"
   ]
  },
  {
   "cell_type": "code",
   "execution_count": 4,
   "metadata": {},
   "outputs": [],
   "source": [
    "X = cancer['data']\n",
    "y = cancer['target']"
   ]
  },
  {
   "cell_type": "code",
   "execution_count": 5,
   "metadata": {},
   "outputs": [],
   "source": [
    "from sklearn.model_selection import train_test_split\n",
    "X_train, X_test, y_train, y_test = train_test_split(X, y)"
   ]
  },
  {
   "cell_type": "code",
   "execution_count": 6,
   "metadata": {},
   "outputs": [],
   "source": [
    "# import the class\n",
    "from sklearn.linear_model import LogisticRegression\n",
    "\n",
    "# instantiate the model (using the default parameters)\n",
    "logreg = LogisticRegression(solver='liblinear')\n",
    "\n",
    "# fit the model with data\n",
    "logreg.fit(X_train, y_train)\n",
    "\n",
    "# Predict on test data\n",
    "y_pred = logreg.predict(X_test)"
   ]
  },
  {
   "cell_type": "code",
   "execution_count": 7,
   "metadata": {},
   "outputs": [
    {
     "data": {
      "text/plain": [
       "array([[43,  1],\n",
       "       [ 5, 94]])"
      ]
     },
     "execution_count": 7,
     "metadata": {},
     "output_type": "execute_result"
    }
   ],
   "source": [
    "# import the metrics class\n",
    "from sklearn import metrics\n",
    "cnf_matrix = metrics.confusion_matrix(y_test, y_pred)\n",
    "cnf_matrix"
   ]
  },
  {
   "cell_type": "code",
   "execution_count": 8,
   "metadata": {},
   "outputs": [
    {
     "name": "stdout",
     "output_type": "stream",
     "text": [
      "Accuracy: 0.958041958041958\n",
      "Precision: 0.9894736842105263\n",
      "Recall: 0.9494949494949495\n"
     ]
    }
   ],
   "source": [
    "print(\"Accuracy:\",metrics.accuracy_score(y_test, y_pred))\n",
    "print(\"Precision:\",metrics.precision_score(y_test, y_pred))\n",
    "print(\"Recall:\",metrics.recall_score(y_test, y_pred))"
   ]
  },
  {
   "cell_type": "markdown",
   "metadata": {},
   "source": [
    "### ROC Curve\n",
    "\n",
    "Receiver Operating Characteristic(ROC) curve is a plot of the true positive rate against the false positive rate. It shows the tradeoff between sensitivity and specificity."
   ]
  },
  {
   "cell_type": "code",
   "execution_count": 10,
   "metadata": {},
   "outputs": [
    {
     "data": {
      "image/png": "[encoded data removed]",
      "text/plain": [
       "<Figure size 432x288 with 1 Axes>"
      ]
     },
     "metadata": {
      "needs_background": "light"
     },
     "output_type": "display_data"
    }
   ],
   "source": [
    "import matplotlib.pyplot as plt\n",
    "import seaborn as sns\n",
    "%matplotlib inline\n",
    "\n",
    "y_pred_proba = logreg.predict_proba(X_test)[::,1]\n",
    "fpr, tpr, _ = metrics.roc_curve(y_test,  y_pred_proba)\n",
    "auc = metrics.roc_auc_score(y_test, y_pred_proba)\n",
    "plt.plot(fpr,tpr,label=\"data 1, auc=\"+str(auc))\n",
    "plt.legend(loc=4)\n",
    "plt.show()"
   ]
  },
  {
   "cell_type": "markdown",
   "metadata": {},
   "source": [
    "AUC score 1 represents perfect classifier, and 0.5 represents a worthless classifier."
   ]
  },
  {
   "cell_type": "markdown",
   "metadata": {},
   "source": [
    "### Advantages\n",
    "\n",
    "Because of its efficient and straightforward nature, doesn't require high computation power, easy to implement, easily interpretable, used widely by data analyst and scientist. Also, it doesn't require scaling of features. Logistic regression provides a probability score for observations.\n",
    "\n",
    "### Disadvantages\n",
    "\n",
    "* Logistic regression is not able to handle a large number of categorical features/variables. It is vulnerable to overfitting. \n",
    "\n",
    "* Also, can't solve the non-linear problem with the logistic regression that is why it requires a transformation of non-linear features. \n",
    "\n",
    "* Logistic regression will not perform well with independent variables that are not correlated to the target variable and are very similar or correlated to each other."
   ]
  },
  {
   "cell_type": "code",
   "execution_count": null,
   "metadata": {},
   "outputs": [],
   "source": []
  }
 ],
 "metadata": {
  "kernelspec": {
   "display_name": "Python 3",
   "language": "python",
   "name": "python3"
  },
  "language_info": {
   "codemirror_mode": {
    "name": "ipython",
    "version": 3
   },
   "file_extension": ".py",
   "mimetype": "text/x-python",
   "name": "python",
   "nbconvert_exporter": "python",
   "pygments_lexer": "ipython3",
   "version": "3.7.3"
  }
 },
 "nbformat": 4,
 "nbformat_minor": 2
}
